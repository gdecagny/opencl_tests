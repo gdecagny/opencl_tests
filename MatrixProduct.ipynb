{
 "cells": [
  {
   "cell_type": "code",
   "execution_count": 84,
   "metadata": {
    "collapsed": true
   },
   "outputs": [],
   "source": [
    "import pyopencl as cl\n",
    "import numpy as np\n",
    "import time, math, sys"
   ]
  },
  {
   "cell_type": "code",
   "execution_count": 29,
   "metadata": {},
   "outputs": [
    {
     "data": {
      "text/plain": [
       "[(<pyopencl.Context at 0x7fb25ad27ec0 on <pyopencl.Device 'AMD Radeon Pro 460 Compute Engine' on 'Apple' at 0x1021c00>>,\n",
       "  <pyopencl.cffi_cl.CommandQueue at 0x1081629d0>)]"
      ]
     },
     "execution_count": 29,
     "metadata": {},
     "output_type": "execute_result"
    }
   ],
   "source": [
    "cq"
   ]
  },
  {
   "cell_type": "code",
   "execution_count": 47,
   "metadata": {
    "collapsed": true
   },
   "outputs": [],
   "source": [
    "platform = cl.get_platforms()[0]\n",
    "cq = []\n",
    "for dev in platform.get_devices():\n",
    "    context = cl.Context(devices=[dev])\n",
    "    queue = cl.CommandQueue(context=context)\n",
    "    cq.append(( context, queue ))\n",
    "\n"
   ]
  },
  {
   "cell_type": "code",
   "execution_count": 48,
   "metadata": {},
   "outputs": [
    {
     "data": {
      "text/plain": [
       "[(<pyopencl.Context at 0x7fb25a906710 on <pyopencl.Device 'Intel(R) Core(TM) i7-6920HQ CPU @ 2.90GHz' on 'Apple' at 0xffffffff>>,\n",
       "  <pyopencl.cffi_cl.CommandQueue at 0x109975650>),\n",
       " (<pyopencl.Context at 0x7fb25aa01a60 on <pyopencl.Device 'AMD Radeon Pro 460 Compute Engine' on 'Apple' at 0x1021c00>>,\n",
       "  <pyopencl.cffi_cl.CommandQueue at 0x109975710>)]"
      ]
     },
     "execution_count": 48,
     "metadata": {},
     "output_type": "execute_result"
    }
   ],
   "source": [
    "cq = cq[::2]\n",
    "cq"
   ]
  },
  {
   "cell_type": "markdown",
   "metadata": {
    "collapsed": true
   },
   "source": [
    "## create test harness and measure time"
   ]
  },
  {
   "cell_type": "code",
   "execution_count": 4,
   "metadata": {
    "collapsed": true
   },
   "outputs": [],
   "source": [
    "from IPython.display import display, HTML\n",
    "def prettyprint(table):\n",
    "    display(HTML('<table><tr>{0}</tr></table>'.format(\n",
    "    \"</tr><tr>\".join( '<td>{}</td>'.format( \n",
    "        '</td><td>'.join(str(_) for _ in row)) for row in table )\n",
    "    )))"
   ]
  },
  {
   "cell_type": "code",
   "execution_count": 52,
   "metadata": {
    "collapsed": true
   },
   "outputs": [],
   "source": [
    "def test(harness_builder = lambda context, queue, N: (lambda:None), count=10, N=1024):\n",
    "    out = [ [ \" \" ] + [ cqu[0].devices[0].name for cqu in cq ], [ \"Time (ms)\"], [ \"MFLOPS\" ] ]\n",
    "    for context, queue in cq:\n",
    "        times = []\n",
    "        harness, expected_reply = harness_builder(context, queue, N)\n",
    "        print >> sys.stderr, \"Testing with\", context.devices[0].name\n",
    "        result = None\n",
    "        for i in xrange(count):\n",
    "            time_start = time.time()\n",
    "            try:\n",
    "                result = harness()\n",
    "            except Exception, e:\n",
    "                print >> sys.stderr, \"Exception on\", context.devices[0].name, str(e)\n",
    "                break\n",
    "            times.append(time.time() - time_start)\n",
    "            if expected_reply is not None:\n",
    "                if ( (result-expected_reply) > 0.01 ).any():\n",
    "                    print >> sys.stderr, \"Warning! wrong result on\", context.devices[0].name\n",
    "            else:\n",
    "                print >> sys.stderr, 'No expected reply'\n",
    "        if times:\n",
    "            out[1].append('{0:.3f}'.format( np.average(times)*1000 ) )\n",
    "            out[2].append('{0:.0f}'.format( 2.0 * N * N * N/(1000000.0*np.average(times)) ) )\n",
    "        else:\n",
    "            out[1].append(\"N/A\")\n",
    "            out[2].append(\"N/A\")\n",
    "\n",
    "    prettyprint(out)\n",
    "        "
   ]
  },
  {
   "cell_type": "code",
   "execution_count": 6,
   "metadata": {},
   "outputs": [
    {
     "name": "stderr",
     "output_type": "stream",
     "text": [
      "Testing with Intel(R) Core(TM) i7-6920HQ CPU @ 2.90GHz\n",
      "No expected reply\n",
      "No expected reply\n",
      "No expected reply\n",
      "No expected reply\n",
      "No expected reply\n",
      "No expected reply\n",
      "No expected reply\n",
      "No expected reply\n",
      "No expected reply\n",
      "No expected reply\n",
      "Testing with AMD Radeon Pro 460 Compute Engine\n",
      "No expected reply\n",
      "No expected reply\n",
      "No expected reply\n",
      "No expected reply\n",
      "No expected reply\n",
      "No expected reply\n",
      "No expected reply\n",
      "No expected reply\n",
      "No expected reply\n",
      "No expected reply\n"
     ]
    },
    {
     "data": {
      "text/html": [
       "<table><tr><td> </td><td>Intel(R) Core(TM) i7-6920HQ CPU @ 2.90GHz</td><td>AMD Radeon Pro 460 Compute Engine</td></tr><tr><td>Time (ms)</td><td>1.228</td><td>1.302</td></tr><tr><td>MFLOPS</td><td>1748326</td><td>1649247</td></tr></table>"
      ],
      "text/plain": [
       "<IPython.core.display.HTML object>"
      ]
     },
     "metadata": {},
     "output_type": "display_data"
    }
   ],
   "source": [
    "test(lambda a,b,c: (lambda: time.sleep(0.001), None), 10, 1024)"
   ]
  },
  {
   "cell_type": "code",
   "execution_count": 7,
   "metadata": {},
   "outputs": [
    {
     "data": {
      "text/html": [
       "<table><tr><td>CPU</td><td>GPU</td></tr><tr><td>1</td><td>2</td></tr></table>"
      ],
      "text/plain": [
       "<IPython.core.display.HTML object>"
      ]
     },
     "metadata": {},
     "output_type": "display_data"
    }
   ],
   "source": [
    "prettyprint([ [ 'CPU', 'GPU' ], [1, 2]])"
   ]
  },
  {
   "cell_type": "markdown",
   "metadata": {},
   "source": [
    "## create buffers and input data"
   ]
  },
  {
   "cell_type": "code",
   "execution_count": 18,
   "metadata": {
    "collapsed": true
   },
   "outputs": [],
   "source": [
    "intel = cq[1][0].devices[0]"
   ]
  },
  {
   "cell_type": "code",
   "execution_count": 19,
   "metadata": {},
   "outputs": [
    {
     "data": {
      "text/plain": [
       "[256L, 256L, 256L]"
      ]
     },
     "execution_count": 19,
     "metadata": {},
     "output_type": "execute_result"
    }
   ],
   "source": [
    "intel.max_work_item_sizes#max_compute_units"
   ]
  },
  {
   "cell_type": "code",
   "execution_count": 10,
   "metadata": {
    "collapsed": true
   },
   "outputs": [],
   "source": [
    "mf = cl.mem_flags"
   ]
  },
  {
   "cell_type": "code",
   "execution_count": null,
   "metadata": {
    "collapsed": true
   },
   "outputs": [],
   "source": []
  },
  {
   "cell_type": "markdown",
   "metadata": {},
   "source": [
    "## run the program"
   ]
  },
  {
   "cell_type": "code",
   "execution_count": 11,
   "metadata": {
    "collapsed": true
   },
   "outputs": [],
   "source": [
    "def harnessbuilder_basic(context, queue, N):\n",
    "    h_A = np.random.rand(N,N).astype(np.float32)\n",
    "    h_B = np.random.rand(N,N).astype(np.float32)\n",
    "    h_C = np.empty([N,N]).astype(np.float32)\n",
    "    expected_reply = h_A.dot(h_B)\n",
    "    \n",
    "    d_A = cl.Buffer(context, mf.COPY_HOST_PTR | mf.READ_ONLY, hostbuf=h_A)\n",
    "    d_B = cl.Buffer(context, mf.COPY_HOST_PTR | mf.READ_ONLY, hostbuf=h_B)\n",
    "    d_C = cl.Buffer(context, mf.WRITE_ONLY, h_C.nbytes)\n",
    "    kernelsource_basic = \"\"\"\n",
    "       __kernel void mmul(__global const float* A,\n",
    "                          __global const float* B,\n",
    "                          __global float* out,\n",
    "                          uint count)\n",
    "        {\n",
    "            __private uint i = get_global_id(0);\n",
    "            __private uint j = get_global_id(1);\n",
    "            __private uint k;\n",
    "            __private float tmp = 0.0f;\n",
    "            for (k=0; k<count; k++) {\n",
    "                tmp += A[ i*count + k ] * B [ k*count + j ];\n",
    "            }\n",
    "            out[i*count + j] = tmp;\n",
    "        }\n",
    "    \"\"\"\n",
    "    program = cl.Program(context, kernelsource_basic).build()\n",
    "    mmul = program.mmul\n",
    "    mmul.set_scalar_arg_dtypes([None,None,None,np.uint32])\n",
    "\n",
    "    def run_mmul():\n",
    "        mmul(queue, h_A.shape, None, d_A, d_B, d_C, N)\n",
    "        cl.enqueue_copy(queue, h_C, d_C)\n",
    "        queue.finish()\n",
    "        return h_C\n",
    "    \n",
    "    return run_mmul, expected_reply"
   ]
  },
  {
   "cell_type": "code",
   "execution_count": 13,
   "metadata": {},
   "outputs": [
    {
     "name": "stderr",
     "output_type": "stream",
     "text": [
      "Testing with Intel(R) Core(TM) i7-6920HQ CPU @ 2.90GHz\n",
      "Testing with AMD Radeon Pro 460 Compute Engine\n"
     ]
    },
    {
     "data": {
      "text/html": [
       "<table><tr><td> </td><td>Intel(R) Core(TM) i7-6920HQ CPU @ 2.90GHz</td><td>AMD Radeon Pro 460 Compute Engine</td></tr><tr><td>Time (ms)</td><td>259.111</td><td>676.997</td></tr><tr><td>MFLOPS</td><td>8288</td><td>3172</td></tr></table>"
      ],
      "text/plain": [
       "<IPython.core.display.HTML object>"
      ]
     },
     "metadata": {},
     "output_type": "display_data"
    }
   ],
   "source": [
    "test(harnessbuilder_basic, 10, 1024)"
   ]
  },
  {
   "cell_type": "markdown",
   "metadata": {},
   "source": [
    "## version with row as work-item"
   ]
  },
  {
   "cell_type": "code",
   "execution_count": 14,
   "metadata": {
    "collapsed": true
   },
   "outputs": [],
   "source": [
    "def harnessbuilder_row_as_workitem(context, queue, count):\n",
    "    h_A = np.random.rand(count**2).astype(np.float32)\n",
    "    h_B = np.random.rand(count**2).astype(np.float32)\n",
    "    h_C = np.empty([count**2]).astype(np.float32)\n",
    "    expected_reply = h_A.reshape(count,count).dot(h_B.reshape(count,count)).reshape(count**2)\n",
    "    \n",
    "    d_A = cl.Buffer(context, mf.COPY_HOST_PTR | mf.READ_ONLY, hostbuf=h_A)\n",
    "    d_B = cl.Buffer(context, mf.COPY_HOST_PTR | mf.READ_ONLY, hostbuf=h_B)\n",
    "    d_C = cl.Buffer(context, mf.WRITE_ONLY, h_C.nbytes)\n",
    "    kernelsource = \"\"\"\n",
    "       __kernel void mmul(__global const float* A,\n",
    "                          __global const float* B,\n",
    "                          __global float* out,\n",
    "                          uint count)\n",
    "        {\n",
    "            __private uint i = get_global_id(0);\n",
    "            __private uint j, k;\n",
    "            for (j=0; j<count; j++)\n",
    "            {\n",
    "                __private float tmp = 0.0f;\n",
    "                for (k=0; k<count; k++) {\n",
    "                    tmp += A[ i*count + k ] * B [ k*count + j ];\n",
    "                }\n",
    "                out[i*count + j] = tmp;\n",
    "            }\n",
    "        }\n",
    "    \"\"\"\n",
    "    program = cl.Program(context, kernelsource).build()\n",
    "    mmul = program.mmul\n",
    "    mmul.set_scalar_arg_dtypes([None,None,None,np.uint32])\n",
    "\n",
    "    def run_mmul():\n",
    "        mmul(queue, (count,), (32,), d_A, d_B, d_C, count)\n",
    "        cl.enqueue_copy(queue, h_C, d_C)\n",
    "        queue.finish()\n",
    "        return h_C\n",
    "    \n",
    "    return run_mmul, expected_reply"
   ]
  },
  {
   "cell_type": "code",
   "execution_count": null,
   "metadata": {
    "scrolled": true
   },
   "outputs": [
    {
     "name": "stderr",
     "output_type": "stream",
     "text": [
      "Testing with Intel(R) Core(TM) i7-6920HQ CPU @ 2.90GHz\n",
      "Testing with AMD Radeon Pro 460 Compute Engine\n"
     ]
    }
   ],
   "source": [
    "test(harnessbuilder_row_as_workitem, 10, 1024*2)"
   ]
  },
  {
   "cell_type": "code",
   "execution_count": null,
   "metadata": {
    "collapsed": true
   },
   "outputs": [],
   "source": []
  },
  {
   "cell_type": "markdown",
   "metadata": {},
   "source": [
    "## version with row stored in private memory"
   ]
  },
  {
   "cell_type": "code",
   "execution_count": 22,
   "metadata": {
    "collapsed": true
   },
   "outputs": [],
   "source": [
    "def harnessbuilder_row_cached_in_private(context, queue, count):\n",
    "    h_A = np.random.rand(count**2).astype(np.float32)\n",
    "    h_B = np.random.rand(count**2).astype(np.float32)\n",
    "    h_C = np.empty([count**2]).astype(np.float32)\n",
    "    expected_reply = h_A.reshape(count,count).dot(h_B.reshape(count,count)).reshape(count**2)\n",
    "    \n",
    "    d_A = cl.Buffer(context, mf.COPY_HOST_PTR | mf.READ_ONLY, hostbuf=h_A)\n",
    "    d_B = cl.Buffer(context, mf.COPY_HOST_PTR | mf.READ_ONLY, hostbuf=h_B)\n",
    "    d_C = cl.Buffer(context, mf.WRITE_ONLY, h_C.nbytes)\n",
    "    kernelsource = \"\"\"\n",
    "       __kernel void mmul(__global const float* A,\n",
    "                          __global const float* B,\n",
    "                          __global float* out,\n",
    "                          uint count)\n",
    "        {\n",
    "            __private uint i = get_global_id(0);\n",
    "            __private uint j, k;\n",
    "            __private float Arwk[\"\"\"+str(count)+\"\"\"];\n",
    "            \n",
    "            for (k=0; k<count; k++)\n",
    "                Arwk[k] = A[i*count+k];\n",
    "            \n",
    "            for (j=0; j<count; j++)\n",
    "            {\n",
    "                __private float tmp = 0.0f;\n",
    "                for (k=0; k<count; k++) {\n",
    "                    tmp += Arwk[k] * B [ k*count + j ];\n",
    "                }\n",
    "                out[i*count + j] = tmp;\n",
    "            }\n",
    "        }\n",
    "    \"\"\"\n",
    "    program = cl.Program(context, kernelsource).build()\n",
    "    mmul = program.mmul\n",
    "    mmul.set_scalar_arg_dtypes([None,None,None,np.uint32])\n",
    "\n",
    "    def run_mmul():\n",
    "        mmul(queue, (count,), None, d_A, d_B, d_C, count)\n",
    "        cl.enqueue_copy(queue, h_C, d_C)\n",
    "        queue.finish()\n",
    "        return h_C\n",
    "    \n",
    "    return run_mmul, expected_reply"
   ]
  },
  {
   "cell_type": "code",
   "execution_count": 85,
   "metadata": {
    "scrolled": false
   },
   "outputs": [
    {
     "name": "stderr",
     "output_type": "stream",
     "text": [
      "Testing with Intel(R) Core(TM) i7-6920HQ CPU @ 2.90GHz\n",
      "Testing with AMD Radeon Pro 460 Compute Engine\n"
     ]
    },
    {
     "data": {
      "text/html": [
       "<table><tr><td> </td><td>Intel(R) Core(TM) i7-6920HQ CPU @ 2.90GHz</td><td>AMD Radeon Pro 460 Compute Engine</td></tr><tr><td>Time (ms)</td><td>7023.398</td><td>2343.416</td></tr><tr><td>MFLOPS</td><td>2446</td><td>7331</td></tr></table>"
      ],
      "text/plain": [
       "<IPython.core.display.HTML object>"
      ]
     },
     "metadata": {},
     "output_type": "display_data"
    }
   ],
   "source": [
    "test(harnessbuilder_row_cached_in_private, 10, 1024*2)"
   ]
  },
  {
   "cell_type": "markdown",
   "metadata": {
    "collapsed": true
   },
   "source": [
    "## version with local memory for the column"
   ]
  },
  {
   "cell_type": "code",
   "execution_count": 24,
   "metadata": {
    "collapsed": true
   },
   "outputs": [],
   "source": [
    "def harnessbuilder_privateA_localB(context, queue, count):\n",
    "    h_A = np.random.rand(count**2).astype(np.float32)\n",
    "    h_B = np.random.rand(count**2).astype(np.float32)\n",
    "    h_C = np.empty([count**2]).astype(np.float32)\n",
    "    expected_reply = h_A.reshape(count,count).dot(h_B.reshape(count,count)).reshape(count**2)\n",
    "    \n",
    "    d_A = cl.Buffer(context, mf.COPY_HOST_PTR | mf.READ_ONLY, hostbuf=h_A)\n",
    "    d_B = cl.Buffer(context, mf.COPY_HOST_PTR | mf.READ_ONLY, hostbuf=h_B)\n",
    "    d_C = cl.Buffer(context, mf.WRITE_ONLY, h_C.nbytes)\n",
    "    kernelsource = \"\"\"\n",
    "       __kernel void mmul(__global const float* A,\n",
    "                          __global const float* B,\n",
    "                          __global float* out,\n",
    "                          __local float* Bwrk,\n",
    "                          uint count)\n",
    "        {\n",
    "            __private uint i = get_global_id(0);\n",
    "            __private uint iloc = get_local_id(0);\n",
    "            __private uint nloc = get_local_size(0);\n",
    "            __private uint j, k;\n",
    "            __private float Arwk[\"\"\"+str(count)+\"\"\"];\n",
    "            \n",
    "            for (k=0; k<count; k++)\n",
    "                Arwk[k] = A[i*count+k];\n",
    "            \n",
    "            for (j=0; j < count; j++)\n",
    "            {\n",
    "                for( k = iloc; k<count; k+=nloc)\n",
    "                {\n",
    "                    Bwrk[k] = B[ k*count + j ];\n",
    "                }\n",
    "            \n",
    "                barrier(CLK_LOCAL_MEM_FENCE);\n",
    "                \n",
    "                __private float tmp = 0.0f;\n",
    "                for (k=0; k<count; k++) {\n",
    "                    tmp += Arwk[k] * Bwrk[k];\n",
    "                }\n",
    "                out[i*count + j] = tmp;\n",
    "                \n",
    "                barrier(CLK_LOCAL_MEM_FENCE);\n",
    "            }\n",
    "                \n",
    "        }\n",
    "    \"\"\"\n",
    "    local = cl.LocalMemory(count*4)\n",
    "    program = cl.Program(context, kernelsource).build()\n",
    "    mmul = program.mmul\n",
    "    mmul.set_scalar_arg_dtypes([None,None,None,None,np.uint32])\n",
    "\n",
    "    def run_mmul():\n",
    "        mmul(queue, (count,), None, d_A, d_B, d_C, local, count)\n",
    "        cl.enqueue_copy(queue, h_C, d_C)\n",
    "        queue.finish()\n",
    "        return h_C\n",
    "    \n",
    "    return run_mmul, expected_reply"
   ]
  },
  {
   "cell_type": "code",
   "execution_count": 54,
   "metadata": {
    "scrolled": false
   },
   "outputs": [
    {
     "name": "stderr",
     "output_type": "stream",
     "text": [
      "Testing with Intel(R) Core(TM) i7-6920HQ CPU @ 2.90GHz\n",
      "Testing with AMD Radeon Pro 460 Compute Engine\n"
     ]
    },
    {
     "data": {
      "text/html": [
       "<table><tr><td> </td><td>Intel(R) Core(TM) i7-6920HQ CPU @ 2.90GHz</td><td>AMD Radeon Pro 460 Compute Engine</td></tr><tr><td>Time (ms)</td><td>24758.021</td><td>2603.880</td></tr><tr><td>MFLOPS</td><td>694</td><td>6598</td></tr></table>"
      ],
      "text/plain": [
       "<IPython.core.display.HTML object>"
      ]
     },
     "metadata": {},
     "output_type": "display_data"
    }
   ],
   "source": [
    "test(harnessbuilder_privateA_localB, 2, 1024*2)"
   ]
  },
  {
   "cell_type": "markdown",
   "metadata": {
    "collapsed": true
   },
   "source": [
    "## version split by blocks"
   ]
  },
  {
   "cell_type": "code",
   "execution_count": 44,
   "metadata": {
    "collapsed": true
   },
   "outputs": [],
   "source": [
    "def harnessbuilder_blocks(context, queue, count):\n",
    "    h_A = np.random.rand(count,count).astype(np.float32)\n",
    "    h_B = np.random.rand(count,count).astype(np.float32)\n",
    "    h_C = np.empty([count,count]).astype(np.float32)\n",
    "    expected_reply = h_A.dot(h_B)\n",
    "    \n",
    "    d_A = cl.Buffer(context, mf.COPY_HOST_PTR | mf.READ_ONLY, hostbuf=h_A)\n",
    "    d_B = cl.Buffer(context, mf.COPY_HOST_PTR | mf.READ_ONLY, hostbuf=h_B)\n",
    "    d_C = cl.Buffer(context, mf.WRITE_ONLY, h_C.nbytes)\n",
    "    \n",
    "    BLOCK_SIZE = 16\n",
    "    kernelsource = \"\"\"\n",
    "    \n",
    "        #define BLOCK_SIZE \"\"\"+str(BLOCK_SIZE)+\"\"\"\n",
    "        //#define count \"\"\"+str(count)+\"\"\"\n",
    "        \n",
    "        #define ASUB(i, j) Asub[i + j*BLOCK_SIZE]\n",
    "        #define BSUB(i, j) Bsub[i + j*BLOCK_SIZE]\n",
    "\n",
    "    \n",
    "       __kernel void mmul(__global const float* A,\n",
    "                          __global const float* B,\n",
    "                          __global       float* out,\n",
    "                          __local float* Asub,\n",
    "                          __local float* Bsub,\n",
    "                          __private uint count)\n",
    "        {\n",
    "        \n",
    "            // this processing element has to compute out[ get_global_id(0), get_global_id(1) ]\n",
    "            \n",
    "            uint block_id_x = get_group_id(0);\n",
    "            uint block_id_y = get_group_id(1);\n",
    "            \n",
    "            uint x_thread = get_local_id(0);\n",
    "            uint y_thread = get_local_id(1);\n",
    "\n",
    "            uint aStart = block_id_y * BLOCK_SIZE * count;\n",
    "            uint aStep = BLOCK_SIZE;\n",
    "            uint aEnd = aStart + count - 1;\n",
    "            \n",
    "            uint bStart = block_id_x * BLOCK_SIZE;\n",
    "            uint bStep = BLOCK_SIZE * count;\n",
    "            \n",
    "            __private float Csub = 0.0f;\n",
    "            \n",
    "            for (uint a = aStart, b = bStart;\n",
    "                 a <= aEnd;\n",
    "                 a += aStep, b+= bStep)\n",
    "                 {\n",
    "                     ASUB(x_thread, y_thread) = A[a + count * y_thread + x_thread];\n",
    "                     BSUB(x_thread, y_thread) = B[a + count * y_thread + x_thread];\n",
    "                     \n",
    "                     barrier(CLK_LOCAL_MEM_FENCE);\n",
    "                     \n",
    "                     #pragma unroll\n",
    "                     for( uint k =0; k < BLOCK_SIZE; ++k)\n",
    "                         Csub += ASUB(k, y_thread) * BSUB(x_thread, k);\n",
    "                         \n",
    "                     barrier(CLK_LOCAL_MEM_FENCE);\n",
    "                 }\n",
    "                 \n",
    "            out[get_global_id(1) * count + get_global_id(0)] = Csub;\n",
    "                \n",
    "        }\n",
    "    \"\"\"\n",
    "    local_a = cl.LocalMemory(BLOCK_SIZE*4)\n",
    "    local_b = cl.LocalMemory(BLOCK_SIZE*4)\n",
    "    program = cl.Program(context, kernelsource).build()\n",
    "    mmul = program.mmul\n",
    "    mmul.set_scalar_arg_dtypes([None,None,None,None,None,np.uint32])\n",
    "\n",
    "    def run_mmul():\n",
    "        mmul(queue, (count,count), (BLOCK_SIZE,BLOCK_SIZE), d_A, d_B, d_C, local_a, local_b, count)\n",
    "        cl.enqueue_copy(queue, h_C, d_C)\n",
    "        queue.finish()\n",
    "        return h_C\n",
    "    \n",
    "    return run_mmul, expected_reply"
   ]
  },
  {
   "cell_type": "code",
   "execution_count": 78,
   "metadata": {
    "scrolled": false
   },
   "outputs": [
    {
     "name": "stderr",
     "output_type": "stream",
     "text": [
      "Testing with Intel(R) Core(TM) i7-6920HQ CPU @ 2.90GHz\n",
      "Exception on Intel(R) Core(TM) i7-6920HQ CPU @ 2.90GHz clEnqueueNDRangeKernel failed: INVALID_WORK_GROUP_SIZE\n",
      "Testing with AMD Radeon Pro 460 Compute Engine\n"
     ]
    },
    {
     "data": {
      "text/html": [
       "<table><tr><td> </td><td>Intel(R) Core(TM) i7-6920HQ CPU @ 2.90GHz</td><td>AMD Radeon Pro 460 Compute Engine</td></tr><tr><td>Time (ms)</td><td>N/A</td><td>22354.316</td></tr><tr><td>MFLOPS</td><td>N/A</td><td>166002</td></tr></table>"
      ],
      "text/plain": [
       "<IPython.core.display.HTML object>"
      ]
     },
     "metadata": {},
     "output_type": "display_data"
    }
   ],
   "source": [
    "test(harnessbuilder_blocks, 1, 1024*12)"
   ]
  },
  {
   "cell_type": "code",
   "execution_count": 26,
   "metadata": {},
   "outputs": [
    {
     "ename": "NameError",
     "evalue": "name 'harness' is not defined",
     "output_type": "error",
     "traceback": [
      "\u001b[0;31m---------------------------------------------------------------------------\u001b[0m",
      "\u001b[0;31mNameError\u001b[0m                                 Traceback (most recent call last)",
      "\u001b[0;32m<ipython-input-26-0f9ef443ffbb>\u001b[0m in \u001b[0;36m<module>\u001b[0;34m()\u001b[0m\n\u001b[0;32m----> 1\u001b[0;31m \u001b[0mharness\u001b[0m\u001b[0;34m\u001b[0m\u001b[0m\n\u001b[0m",
      "\u001b[0;31mNameError\u001b[0m: name 'harness' is not defined"
     ]
    }
   ],
   "source": []
  },
  {
   "cell_type": "code",
   "execution_count": null,
   "metadata": {
    "collapsed": true
   },
   "outputs": [],
   "source": []
  }
 ],
 "metadata": {
  "kernelspec": {
   "display_name": "Python 2",
   "language": "python",
   "name": "python2"
  },
  "language_info": {
   "codemirror_mode": {
    "name": "ipython",
    "version": 2
   },
   "file_extension": ".py",
   "mimetype": "text/x-python",
   "name": "python",
   "nbconvert_exporter": "python",
   "pygments_lexer": "ipython2",
   "version": "2.7.14"
  }
 },
 "nbformat": 4,
 "nbformat_minor": 2
}
